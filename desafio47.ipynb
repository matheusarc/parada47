{
 "cells": [
  {
   "cell_type": "markdown",
   "metadata": {},
   "source": [
    "1 - Apresentando o conteúdo do desafio:"
   ]
  },
  {
   "cell_type": "code",
   "execution_count": null,
   "metadata": {},
   "outputs": [],
   "source": [
    "import pandas as pd\n",
    "\n",
    "arquivo = pd.read_excel(\"cursinho.xlsx\")\n",
    "display(arquivo)"
   ]
  },
  {
   "cell_type": "markdown",
   "metadata": {},
   "source": [
    "2 - Filtrando o dia da semana com o maior n° de faltas:"
   ]
  },
  {
   "cell_type": "code",
   "execution_count": null,
   "metadata": {},
   "outputs": [],
   "source": [
    "import pandas as pd\n",
    "\n",
    "arquivo = pd.read_excel(\"cursinho.xlsx\")\n",
    "\n",
    "linha = arquivo.iloc[6, 1]\n",
    "display(linha)"
   ]
  },
  {
   "cell_type": "markdown",
   "metadata": {},
   "source": [
    "3 - Filtrando o dia da semana com o menor n° de faltas:"
   ]
  },
  {
   "cell_type": "code",
   "execution_count": null,
   "metadata": {},
   "outputs": [],
   "source": [
    "import pandas as pd\n",
    "\n",
    "arquivo = pd.read_excel(\"cursinho.xlsx\")\n",
    "\n",
    "linha1 = arquivo.iloc[1, 1]\n",
    "display(linha1)"
   ]
  },
  {
   "cell_type": "markdown",
   "metadata": {},
   "source": [
    "4 - somando o total de faltas na semana:"
   ]
  },
  {
   "cell_type": "code",
   "execution_count": null,
   "metadata": {},
   "outputs": [],
   "source": [
    "import pandas as pd\n",
    "\n",
    "arquivo = pd.read_excel(\"cursinho.xlsx\")\n",
    "faltas = 0\n",
    "\n",
    "for x in range(len(arquivo)):\n",
    "    faltas += arquivo.iloc[x, 4].sum()\n",
    "\n",
    "print(f\"O total de faltas na semana foi de: {faltas}\")\n"
   ]
  },
  {
   "cell_type": "markdown",
   "metadata": {},
   "source": [
    "5 - somando o total de presença na semana:"
   ]
  },
  {
   "cell_type": "code",
   "execution_count": null,
   "metadata": {},
   "outputs": [],
   "source": [
    "import pandas as pd\n",
    "\n",
    "arquivo = pd.read_excel(\"cursinho.xlsx\")\n",
    "presenca = 0\n",
    "\n",
    "for x in range(len(arquivo)):\n",
    "    presenca += arquivo.iloc[x, 3].sum()\n",
    "\n",
    "print(f\"O total de presença na semana foi de: {presenca}\")"
   ]
  }
 ],
 "metadata": {
  "kernelspec": {
   "display_name": "Python 3",
   "language": "python",
   "name": "python3"
  },
  "language_info": {
   "codemirror_mode": {
    "name": "ipython",
    "version": 3
   },
   "file_extension": ".py",
   "mimetype": "text/x-python",
   "name": "python",
   "nbconvert_exporter": "python",
   "pygments_lexer": "ipython3",
   "version": "3.12.5"
  }
 },
 "nbformat": 4,
 "nbformat_minor": 2
}
